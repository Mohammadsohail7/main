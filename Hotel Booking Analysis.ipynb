{
  "nbformat": 4,
  "nbformat_minor": 0,
  "metadata": {
    "colab": {
      "private_outputs": true,
      "provenance": [],
      "collapsed_sections": [
        "E6MkPsBcp1cl",
        "UV0SzAkaZNRQ",
        "gIfDvo9L0UH2"
      ]
    },
    "kernelspec": {
      "name": "python3",
      "display_name": "Python 3"
    },
    "language_info": {
      "name": "python"
    }
  },
  "cells": [
    {
      "cell_type": "markdown",
      "source": [
        "# **Project Name**    -\n",
        "\n"
      ],
      "metadata": {
        "id": "vncDsAP0Gaoa"
      }
    },
    {
      "cell_type": "markdown",
      "source": [
        "##### **Project Type**    - EDA\n",
        "##### **Contribution**    - Individual\n"
      ],
      "metadata": {
        "id": "beRrZCGUAJYm"
      }
    },
    {
      "cell_type": "markdown",
      "source": [
        "# **Project Summary -**"
      ],
      "metadata": {
        "id": "FJNUwmbgGyua"
      }
    },
    {
      "cell_type": "markdown",
      "source": [
        "Have you ever wondered when the best time of year to book a hotel room is? Or the optimal length of stay in order to get the best daily rate? What if you wanted to predict whether or not a hotel was likely to receive a disproportionately high number of special requests? This hotel booking dataset can help you explore those questions! This data set contains booking information for a city hotel and a resort hotel, and includes information such as when the booking was made, length of stay, the number of adults, children, and/or babies, and the number of available parking spaces, among other things. All personally identifying information has been removed from the data. Explore and analyse the data to discover important factors that govern the bookings."
      ],
      "metadata": {
        "id": "F6v_1wHtG2nS"
      }
    },
    {
      "cell_type": "markdown",
      "source": [
        "# **GitHub Link -**"
      ],
      "metadata": {
        "id": "w6K7xa23Elo4"
      }
    },
    {
      "cell_type": "markdown",
      "source": [
        "GitHub Link here :"
      ],
      "metadata": {
        "id": "h1o69JH3Eqqn"
      }
    },
    {
      "cell_type": "markdown",
      "source": [
        "# **Problem Statement**\n"
      ],
      "metadata": {
        "id": "yQaldy8SH6Dl"
      }
    },
    {
      "cell_type": "markdown",
      "source": [
        "- Project Title: \"Guest Booking Analysis.\"\n",
        "- The objective of the project is to analyze the information about hotels and resort hotels in the city and explore the various options for booking hotels.\n",
        "- The dataset contains important information, including date of booking, length of stay, number of adults, children, infants and parking spaces available, enabling a comprehensive insight into factors affecting hotel policy\n",
        "- Notably, all personally identifiable information has been carefully removed from the data set to ensure data confidentiality and compliance.\n",
        "- To optimize the analysis, the project will use popular libraries such as Pandas, Matplotlib, Seaborn, and NumPy, which provide robust functionality for data manipulation, visualization, and computational processing\n",
        "- Through this hotel design analysis, participants will be able to identify important patterns, trends and relationships in the data, helping to better understand consumer behavior and hotel design trends."
      ],
      "metadata": {
        "id": "DpeJGUA3kjGy"
      }
    },
    {
      "cell_type": "markdown",
      "source": [
        "#### **Define Your Business Objective?**"
      ],
      "metadata": {
        "id": "PH-0ReGfmX4f"
      }
    },
    {
      "cell_type": "markdown",
      "source": [
        "The business objective of the \"Hotel Booking Analysis\" project is to explore booking information for city hotels and resort hotels. The analysis aims to address questions such as the best time of year to book hotel rooms, the optimal length of stay for the best daily rate, and predicting hotels likely to receive a disproportionately high number of special requests. By gaining insights into these factors, the project aims to assist businesses in the hospitality industry to make data-driven decisions and enhance customer satisfaction."
      ],
      "metadata": {
        "id": "PhDvGCAqmjP1"
      }
    },
    {
      "cell_type": "markdown",
      "source": [
        "# **General Guidelines** : -  "
      ],
      "metadata": {
        "id": "mDgbUHAGgjLW"
      }
    },
    {
      "cell_type": "markdown",
      "source": [
        "1.   Well-structured, formatted, and commented code is required.\n",
        "2.   Exception Handling, Production Grade Code & Deployment Ready Code will be a plus. Those students will be awarded some additional credits.\n",
        "     \n",
        "     The additional credits will have advantages over other students during Star Student selection.\n",
        "       \n",
        "             [ Note: - Deployment Ready Code is defined as, the whole .ipynb notebook should be executable in one go\n",
        "                       without a single error logged. ]\n",
        "\n",
        "3.   Each and every logic should have proper comments.\n",
        "4. You may add as many number of charts you want. Make Sure for each and every chart the following format should be answered.\n",
        "        \n",
        "\n",
        "```\n",
        "# Chart visualization code\n",
        "```\n",
        "            \n",
        "\n",
        "*   Why did you pick the specific chart?\n",
        "*   What is/are the insight(s) found from the chart?\n",
        "* Will the gained insights help creating a positive business impact?\n",
        "Are there any insights that lead to negative growth? Justify with specific reason.\n",
        "\n",
        "5. You have to create at least 20 logical & meaningful charts having important insights.\n",
        "\n",
        "\n",
        "[ Hints : - Do the Vizualization in  a structured way while following \"UBM\" Rule.\n",
        "\n",
        "U - Univariate Analysis,\n",
        "\n",
        "B - Bivariate Analysis (Numerical - Categorical, Numerical - Numerical, Categorical - Categorical)\n",
        "\n",
        "M - Multivariate Analysis\n",
        " ]\n",
        "\n",
        "\n",
        "\n"
      ],
      "metadata": {
        "id": "ZrxVaUj-hHfC"
      }
    },
    {
      "cell_type": "markdown",
      "source": [
        "# ***Let's Begin !***"
      ],
      "metadata": {
        "id": "O_i_v8NEhb9l"
      }
    },
    {
      "cell_type": "markdown",
      "source": [
        "## ***1. Know Your Data***"
      ],
      "metadata": {
        "id": "HhfV-JJviCcP"
      }
    },
    {
      "cell_type": "markdown",
      "source": [
        "### Import Libraries"
      ],
      "metadata": {
        "id": "Y3lxredqlCYt"
      }
    },
    {
      "cell_type": "code",
      "source": [
        "# Import Libraries\n",
        "import pandas as pd\n",
        "import matplotlib.pyplot as plt\n",
        "import seaborn as sns\n",
        "import numpy as np"
      ],
      "metadata": {
        "id": "M8Vqi-pPk-HR"
      },
      "execution_count": null,
      "outputs": []
    },
    {
      "cell_type": "markdown",
      "source": [
        "### Dataset Loading"
      ],
      "metadata": {
        "id": "3RnN4peoiCZX"
      }
    },
    {
      "cell_type": "code",
      "source": [
        "# Load Dataset\n",
        "from google.colab import drive\n",
        "drive.mount('/content/drive')"
      ],
      "metadata": {
        "id": "4CkvbW_SlZ_R"
      },
      "execution_count": null,
      "outputs": []
    },
    {
      "cell_type": "code",
      "source": [
        "url = pd.read_csv('/content/drive/MyDrive/EDA PROJECT/Hotel Bookings.csv')\n",
        "df = url"
      ],
      "metadata": {
        "id": "c523HkQYFNBo"
      },
      "execution_count": null,
      "outputs": []
    },
    {
      "cell_type": "markdown",
      "source": [
        "### Dataset First View"
      ],
      "metadata": {
        "id": "x71ZqKXriCWQ"
      }
    },
    {
      "cell_type": "code",
      "source": [
        "# Dataset First Look\n",
        "df.head()"
      ],
      "metadata": {
        "id": "LWNFOSvLl09H"
      },
      "execution_count": null,
      "outputs": []
    },
    {
      "cell_type": "markdown",
      "source": [
        "### Dataset Rows & Columns count"
      ],
      "metadata": {
        "id": "7hBIi_osiCS2"
      }
    },
    {
      "cell_type": "code",
      "source": [
        "# Dataset Rows & Columns count\n",
        "df.shape"
      ],
      "metadata": {
        "id": "Kllu7SJgmLij"
      },
      "execution_count": null,
      "outputs": []
    },
    {
      "cell_type": "markdown",
      "source": [
        "### Dataset Information"
      ],
      "metadata": {
        "id": "JlHwYmJAmNHm"
      }
    },
    {
      "cell_type": "code",
      "source": [
        "# Dataset Info\n",
        "df.info()"
      ],
      "metadata": {
        "id": "e9hRXRi6meOf"
      },
      "execution_count": null,
      "outputs": []
    },
    {
      "cell_type": "markdown",
      "source": [
        "#### Duplicate Values"
      ],
      "metadata": {
        "id": "35m5QtbWiB9F"
      }
    },
    {
      "cell_type": "code",
      "source": [
        "# Dataset Duplicate Value Count\n",
        "duplicate_count = df.duplicated().sum()\n",
        "print('Number of duplicate rows : ', duplicate_count)"
      ],
      "metadata": {
        "id": "1sLdpKYkmox0"
      },
      "execution_count": null,
      "outputs": []
    },
    {
      "cell_type": "code",
      "source": [
        "duplicate_count_columns = df.duplicated(subset=['hotel', 'arrival_date_year']).sum()\n",
        "\n",
        "# Display the count\n",
        "print('Number of duplicate rows for columns \"hotel\" and \"arrival_date_year\":', duplicate_count_columns)"
      ],
      "metadata": {
        "id": "0_ltd87_IhLJ"
      },
      "execution_count": null,
      "outputs": []
    },
    {
      "cell_type": "markdown",
      "source": [
        "This code will give you the total number of duplicate rows based on the combination of values in the 'hotel' and 'arrival_date_year' columns. The duplicated() method with the subset parameter checks for duplicates only within the specified columns."
      ],
      "metadata": {
        "id": "PMlga_r4IpBy"
      }
    },
    {
      "cell_type": "markdown",
      "source": [
        "#### Missing Values/Null Values"
      ],
      "metadata": {
        "id": "PoPl-ycgm1ru"
      }
    },
    {
      "cell_type": "code",
      "source": [
        "# Missing Values/Null Values Count\n",
        "df.isnull().sum()"
      ],
      "metadata": {
        "id": "GgHWkxvamxVg"
      },
      "execution_count": null,
      "outputs": []
    },
    {
      "cell_type": "code",
      "source": [
        "# Visualizing the missing values\n",
        "\n",
        "sns.heatmap(df.isnull(), cbar = False, cmap = 'viridis')\n",
        "plt.title('Missing Values Heatmap')\n",
        "plt.show()"
      ],
      "metadata": {
        "id": "3q5wnI3om9sJ"
      },
      "execution_count": null,
      "outputs": []
    },
    {
      "cell_type": "markdown",
      "source": [
        "* There are 4 missing values in the \"children\" column, which represents the number of children included in the booking. These missing values might indicate cases where the number of children was not specified during booking.\n",
        "*  There are 488 missing values in the \"country\" column, which represents the country of origin of the guest. The missing values could be due to instances where the country information was not provided or recorded\n",
        "* There are 16,340 missing values in the \"agent\" column, which represents the ID of the travel agency that made the booking. The missing values might indicate bookings made without the involvement of any specific travel agency.\n",
        "* There are 112,593 missing values in the \"company\" column, which represents the ID of the company/entity making the booking or responsible for payment. The missing values may suggest individual bookings without the involvement of any company."
      ],
      "metadata": {
        "id": "L8Gv2_56LR3S"
      }
    },
    {
      "cell_type": "markdown",
      "source": [
        "### What did you know about your dataset?"
      ],
      "metadata": {
        "id": "H0kj-8xxnORC"
      }
    },
    {
      "cell_type": "markdown",
      "source": [
        "\n",
        "\n",
        "```\n",
        "# This is formatted as code\n",
        "```\n",
        "\n",
        "* The dataset contains booking information for both city hotels and resort hotels. It includes various attributes such as date of booking, length of stay, the number of adults, children, and/or babies, available parking spaces, meal type, market segment, distribution channel, previous booking and cancellation history, deposit type, customer type, and more.\n",
        "* The dataset consists of 119,390 rows and 32 columns."
      ],
      "metadata": {
        "id": "gfoNAAC-nUe_"
      }
    },
    {
      "cell_type": "markdown",
      "source": [
        "## ***2. Understanding Your Variables***"
      ],
      "metadata": {
        "id": "nA9Y7ga8ng1Z"
      }
    },
    {
      "cell_type": "code",
      "source": [
        "# Dataset Columns\n",
        "df.columns"
      ],
      "metadata": {
        "id": "j7xfkqrt5Ag5"
      },
      "execution_count": null,
      "outputs": []
    },
    {
      "cell_type": "code",
      "source": [
        "# Dataset Describe\n",
        "df.describe()"
      ],
      "metadata": {
        "id": "DnOaZdaE5Q5t"
      },
      "execution_count": null,
      "outputs": []
    },
    {
      "cell_type": "markdown",
      "source": [
        "### Variables Description"
      ],
      "metadata": {
        "id": "PBTbrJXOngz2"
      }
    },
    {
      "cell_type": "markdown",
      "source": [
        "####hotel: Represents the type of hotel (Resort Hotel or City Hotel).\n",
        "####is_canceled: Indicates whether the booking was canceled (1) or not canceled (0).\n",
        "####lead_time: The number of days between the booking date and the arrival date.\n",
        "####arrival_date_year: The year of the arrival date.\n",
        "####arrival_date_month: The month of the arrival date.\n",
        "####arrival_date_week_number: The week number of the arrival date.\n",
        "####arrival_date_day_of_month: The day of the month of the arrival date.\n",
        "####stays_in_weekend_nights: The number of weekend nights (Saturday or Sunday) the guest stays.\n",
        "####stays_in_week_nights: The number of weekday nights (Monday to Friday) the guest stays.\n",
        "####adults: The number of adults included in the booking.\n",
        "####children: The number of children included in the booking.\n",
        "####babies: The number of babies (infants) included in the booking.\n",
        "####meal: The type of meal booked.\n",
        "####country: The country of origin of the guest.\n",
        "####market_segment: The market segment designation (e.g., Online TA, Offline TA/TO, Groups).\n",
        "####distribution_channel: The booking distribution channel (e.g., Direct, TA/TO).\n",
        "####is_repeated_guest: Indicates whether the guest is a repeated guest (1) or not (0).\n",
        "####previous_cancellations: The number of previous bookings that were canceled by the guest.\n",
        "####previous_bookings_not_canceled: The number of previous bookings that were not canceled by the guest.\n",
        "####reserved_room_type: The type of room reserved.\n",
        "####assigned_room_type: The type of room assigned to the guest at check-in.\n",
        "####booking_changes: The number of changes made to the booking before check-in.\n",
        "####deposit_type: The type of deposit made for the booking (e.g., No Deposit, Non-Refundable).\n",
        "####agent: ID of the travel agency that made the booking.\n",
        "####company: ID of the company/entity making the booking or responsible for payment.\n",
        "####days_in_waiting_list: The number of days the booking was on the waiting list before it was confirmed.\n",
        "####customer_type: The type of booking customer (e.g., Transient, Contract).\n",
        "####adr: Average Daily Rate, the average revenue earned per room occupied.\n",
        "####required_car_parking_spaces: The number of car parking spaces required by the guest.\n",
        "####total_of_special_requests: The total number of special requests made by the guest.\n",
        "####reservation_status: The current status of the booking (e.g., Canceled, Check-Out).\n",
        "####reservation_status_date: The date of the last update to the reservation status.\n"
      ],
      "metadata": {
        "id": "aJV4KIxSnxay"
      }
    },
    {
      "cell_type": "markdown",
      "source": [
        "### Check Unique Values for each variable."
      ],
      "metadata": {
        "id": "u3PMJOP6ngxN"
      }
    },
    {
      "cell_type": "code",
      "source": [
        "# Check Unique Values for each variable.\n",
        "df.columns.unique()"
      ],
      "metadata": {
        "id": "zms12Yq5n-jE"
      },
      "execution_count": null,
      "outputs": []
    },
    {
      "cell_type": "code",
      "source": [
        "unique_values = {column : df[column].unique() for column in df.columns}\n",
        "print(unique_values)"
      ],
      "metadata": {
        "id": "ZYnlXF6GRBao"
      },
      "execution_count": null,
      "outputs": []
    },
    {
      "cell_type": "markdown",
      "source": [
        "#### this code will provide a comprehensive view of the unique value present in each column. helping us  understand the  distint categorical and data distributation  for categorical variables as well as the range and spread of numerical variable"
      ],
      "metadata": {
        "id": "nFl09LUJS62Z"
      }
    },
    {
      "cell_type": "markdown",
      "source": [
        "## 3. ***Data Wrangling***"
      ],
      "metadata": {
        "id": "dauF4eBmngu3"
      }
    },
    {
      "cell_type": "markdown",
      "source": [
        "### Data Wrangling Code"
      ],
      "metadata": {
        "id": "bKJF3rekwFvQ"
      }
    },
    {
      "cell_type": "code",
      "source": [
        "# Write your code to make your dataset analysis ready.\n",
        "median_children = df['children'].median()\n",
        "df['children'].fillna(median_children, inplace = True)"
      ],
      "metadata": {
        "id": "wk-9a2fpoLcV"
      },
      "execution_count": null,
      "outputs": []
    },
    {
      "cell_type": "code",
      "source": [
        "fill_Value = 'Unknown'\n",
        "df['country'].fillna(fill_Value,inplace = True)\n",
        "df['agent'].fillna(fill_Value,inplace = True)\n",
        "df['company'].fillna(fill_Value,inplace = True)"
      ],
      "metadata": {
        "id": "AfIIQ18JTf9M"
      },
      "execution_count": null,
      "outputs": []
    },
    {
      "cell_type": "markdown",
      "source": [
        "####The purpose of filling missing values with 'Unknown' in these columns might be to maintain data completeness for further analysis. Instead of leaving missing values as NaN (Not a Number) or blank, filling them with a placeholder value like 'Unknown' allows better handling of the data during analysis, especially when considering categorical variables like \"country,\" \"agent,\" and \"company.\""
      ],
      "metadata": {
        "id": "OYDiRoC5VCz8"
      }
    },
    {
      "cell_type": "code",
      "source": [
        "df.isnull().sum()"
      ],
      "metadata": {
        "id": "0PptcSO2UGKO"
      },
      "execution_count": null,
      "outputs": []
    },
    {
      "cell_type": "markdown",
      "source": [
        "####  by seeing the above data you have seen that i have replaced the missing values and there is no missing values in  any columnI addressed missing values in the dataset by replacing them with appropriate values. As a result of this data cleaning process, there are no missing values in any column, ensuring that the dataset is now complete and ready for further analysis and visualization."
      ],
      "metadata": {
        "id": "vY8hvmsIWBbu"
      }
    },
    {
      "cell_type": "markdown",
      "source": [],
      "metadata": {
        "id": "MJRWbkMQV084"
      }
    },
    {
      "cell_type": "markdown",
      "source": [
        "### What all manipulations have you done and insights you found?"
      ],
      "metadata": {
        "id": "MSa1f5Uengrz"
      }
    },
    {
      "cell_type": "markdown",
      "source": [
        "#####Checked for Duplicate Values: You calculated the total number of duplicate rows in the dataset, which was 31,994 duplicates.\n",
        "#####Checked for Duplicate Rows with Specific Columns: You calculated the number of duplicate rows based on the combination of values in the 'hotel' and arrival_date_year' columns, which was 119,384 duplicates.\n",
        "#####Addressed Missing Values: You replaced the missing values in the 'children' column with the median value, and in the 'country,' 'agent,' and 'company'\n",
        "#####columns with the placeholder value 'Unknown.' This ensured there were no missing values in any column."
      ],
      "metadata": {
        "id": "LbyXE7I1olp8"
      }
    },
    {
      "cell_type": "markdown",
      "source": [
        "## ***4. Data Vizualization, Storytelling & Experimenting with charts : Understand the relationships between variables***"
      ],
      "metadata": {
        "id": "GF8Ens_Soomf"
      }
    },
    {
      "cell_type": "markdown",
      "source": [
        "#### Chart - 1"
      ],
      "metadata": {
        "id": "0wOQAZs5pc--"
      }
    },
    {
      "cell_type": "code",
      "source": [
        "# Chart - 1 visualization code\n",
        "sns.countplot(data = df , x= \"stays_in_weekend_nights\" )\n",
        "plt.xlabel('Number of Weekend Nights')\n",
        "plt.ylabel('count')\n",
        "plt.title('Distribution of Stays in Weekend Nights')\n",
        "plt.show()"
      ],
      "metadata": {
        "id": "7v_ESjsspbW7"
      },
      "execution_count": null,
      "outputs": []
    },
    {
      "cell_type": "markdown",
      "source": [
        "##### 1. Why did you pick the specific chart?"
      ],
      "metadata": {
        "id": "K5QZ13OEpz2H"
      }
    },
    {
      "cell_type": "markdown",
      "source": [
        "#####This count plot will show the distribution of the number of weekend nights guests stay in the hotel, providing insights into the booking patterns and preferences related to weekend stays."
      ],
      "metadata": {
        "id": "XESiWehPqBRc"
      }
    },
    {
      "cell_type": "markdown",
      "source": [
        "##### 2. What is/are the insight(s) found from the chart?"
      ],
      "metadata": {
        "id": "lQ7QKXXCp7Bj"
      }
    },
    {
      "cell_type": "code",
      "source": [
        "sns.countplot(data=df, x='arrival_date_year')\n",
        "plt.xlabel('Year')\n",
        "plt.ylabel('Count')\n",
        "plt.title('Distribution of Bookings by Year')\n",
        "\n",
        "plt.show()"
      ],
      "metadata": {
        "id": "TLVdsKOBhfcg"
      },
      "execution_count": null,
      "outputs": []
    },
    {
      "cell_type": "markdown",
      "source": [
        "#### This count plot will show the distribution of bookings across different years, allowing us to observe any trends or patterns related to the number of bookings over time"
      ],
      "metadata": {
        "id": "C_j1G7yiqdRP"
      }
    },
    {
      "cell_type": "code",
      "source": [
        "sns.countplot(data = df, x = 'stays_in_week_nights')\n",
        "plt.xlabel('Number of Weekday Nights')\n",
        "plt.ylabel('Count')\n",
        "plt.title('Distribution of Stays in Weekday Nights')\n",
        "\n",
        "plt.show()"
      ],
      "metadata": {
        "id": "ud-U93eeh2tP"
      },
      "execution_count": null,
      "outputs": []
    },
    {
      "cell_type": "markdown",
      "source": [
        "##### This count plot will show the distribution of bookings based on the number of weekday nights guests stay in the hotel. It will provide insights into the booking patterns and preferences related to weekday stays."
      ],
      "metadata": {
        "id": "JAqzt_EsipzK"
      }
    },
    {
      "cell_type": "code",
      "source": [
        "sns.boxplot(data=df, x='is_canceled', y='adr', hue='hotel')\n",
        "plt.xlabel('Canceled (1) or Not Canceled (0)')\n",
        "plt.ylabel('Average Daily Rate (adr)')\n",
        "plt.title('Box Plot: Cancellation Status vs. Average Daily Rate')\n",
        "plt.show()"
      ],
      "metadata": {
        "id": "dZxCSPTTiszZ"
      },
      "execution_count": null,
      "outputs": []
    },
    {
      "cell_type": "code",
      "source": [
        "sns.barplot(data=df, x='hotel', y='stays_in_weekend_nights')\n",
        "plt.xlabel('Hotel Type')\n",
        "plt.ylabel('Number of Weekend Nights')\n",
        "plt.title('BAR Plot: Weekend Nights Stayed by Hotel Type')\n",
        "plt.show()"
      ],
      "metadata": {
        "id": "VQ3KpeBwm3OZ"
      },
      "execution_count": null,
      "outputs": []
    },
    {
      "cell_type": "markdown",
      "source": [
        "##### 3. Will the gained insights help creating a positive business impact?\n",
        "Are there any insights that lead to negative growth? Justify with specific reason."
      ],
      "metadata": {
        "id": "448CDAPjqfQr"
      }
    },
    {
      "cell_type": "markdown",
      "source": [
        "####The insights gained from this bar plot can be valuable for the hotel management to understand the preferences and booking behaviors of guests for weekend stays. They can use this information to optimize their pricing strategies, promotional offers, and hotel policies to attract more guests for weekend bookings. Additionally, it can help them tailor their services and amenities based on the expected length of stay for guests in each hotel type, leading to a positive business impact in terms of increased occupancy rates and guest satisfaction.\n",
        "\n"
      ],
      "metadata": {
        "id": "3cspy4FjqxJW"
      }
    },
    {
      "cell_type": "markdown",
      "source": [
        "#### Chart - 2"
      ],
      "metadata": {
        "id": "KSlN3yHqYklG"
      }
    },
    {
      "cell_type": "code",
      "source": [
        "# Chart - 2 visualization code\n",
        "sns.catplot(data=df, x='reserved_room_type', hue='hotel', kind='count', col='hotel')\n",
        "plt.xlabel('Reserved Room Type')\n",
        "plt.ylabel('Count')\n",
        "plt.suptitle('Reserved Room Type vs. City Name with Separate Plots for Hotel Types', y=1.02)\n",
        "plt.show()"
      ],
      "metadata": {
        "id": "R4YgtaqtYklH"
      },
      "execution_count": null,
      "outputs": []
    },
    {
      "cell_type": "markdown",
      "source": [
        "##### 1. Why did you pick the specific chart?"
      ],
      "metadata": {
        "id": "t6dVpIINYklI"
      }
    },
    {
      "cell_type": "markdown",
      "source": [
        "#### This plot will show the count of each reserved room type for  both hotel type creating seprate  plots for each hotel\n",
        "\n",
        "#### The x-axis will represent the reserved room type for both hotel types (Resort Hotel And City Hotel)\n",
        "\n",
        "####  The insights gained from this plot can help hotel management understand the distribution of room types for each hotel type and city."
      ],
      "metadata": {
        "id": "5aaW0BYyYklI"
      }
    },
    {
      "cell_type": "markdown",
      "source": [
        "##### 2. What is/are the insight(s) found from the chart?"
      ],
      "metadata": {
        "id": "ijmpgYnKYklI"
      }
    },
    {
      "cell_type": "markdown",
      "source": [
        "#### The insight ganied from this plot can help hotel managment understand the distribution of room type for each hotel type and city\n",
        "#### It can provide valuable information on which room type are more popular in each city and hotel category"
      ],
      "metadata": {
        "id": "PSx9atu2YklI"
      }
    },
    {
      "cell_type": "markdown",
      "source": [
        "##### 3. Will the gained insights help creating a positive business impact?\n",
        "Are there any insights that lead to negative growth? Justify with specific reason."
      ],
      "metadata": {
        "id": "-JiQyfWJYklI"
      }
    },
    {
      "cell_type": "markdown",
      "source": [
        "#### The gained insights from the visualizations have the potential  to create a positive bussiness impact by guiding data driven decisions and enchancing various  aspects of the hotel bussiness by leveraging these insights the hotel can imporve customer satisfaction and operational efficiency leading to growth and success in the hospitality industry"
      ],
      "metadata": {
        "id": "BcBbebzrYklV"
      }
    },
    {
      "cell_type": "markdown",
      "source": [
        "#### Chart - 3"
      ],
      "metadata": {
        "id": "EM7whBJCYoAo"
      }
    },
    {
      "cell_type": "code",
      "source": [
        "df['customer_type'].value_counts()"
      ],
      "metadata": {
        "id": "xRNySdHFdto9"
      },
      "execution_count": null,
      "outputs": []
    },
    {
      "cell_type": "code",
      "source": [
        "# Chart - 3 visualization code\n",
        "sns.countplot(data = df , x = 'customer_type')\n",
        "plt.xlabel('Customer Type')\n",
        "plt.ylabel('count')\n",
        "plt.title('Distribution of customer Types')\n",
        "plt.show()"
      ],
      "metadata": {
        "id": "t6GMdE67YoAp"
      },
      "execution_count": null,
      "outputs": []
    },
    {
      "cell_type": "markdown",
      "source": [
        "##### 1. Why did you pick the specific chart?"
      ],
      "metadata": {
        "id": "fge-S5ZAYoAp"
      }
    },
    {
      "cell_type": "markdown",
      "source": [
        "### This plot will help in understanding the distribution of different customer types who made booking in the hotel. it will show which customer types are more dominant and can help the hotel managment in tailoring their services and marketing strategies to cater to the needs of different customer segments."
      ],
      "metadata": {
        "id": "5dBItgRVYoAp"
      }
    },
    {
      "cell_type": "markdown",
      "source": [
        "##### 2. What is/are the insight(s) found from the chart?"
      ],
      "metadata": {
        "id": "85gYPyotYoAp"
      }
    },
    {
      "cell_type": "markdown",
      "source": [
        "#### This insight can lead to a positive business impact by enhancing customer satisfaction and loyalty, resulting in increased repeat bookings and positive word-of-mouth recommendations."
      ],
      "metadata": {
        "id": "4jstXR6OYoAp"
      }
    },
    {
      "cell_type": "markdown",
      "source": [
        "##### 3. Will the gained insights help creating a positive business impact?\n",
        "Are there any insights that lead to negative growth? Justify with specific reason."
      ],
      "metadata": {
        "id": "RoGjAbkUYoAp"
      }
    },
    {
      "cell_type": "markdown",
      "source": [
        "#### Additional understanding the customer types can also guide revenue managment decision such as offering customers segments to maximize revenue and occupency rate."
      ],
      "metadata": {
        "id": "zfJ8IqMcYoAp"
      }
    },
    {
      "cell_type": "markdown",
      "source": [
        "#### Chart - 4"
      ],
      "metadata": {
        "id": "4Of9eVA-YrdM"
      }
    },
    {
      "cell_type": "code",
      "source": [
        "df['required_car_parking_spaces'].value_counts()"
      ],
      "metadata": {
        "id": "geGkMi18gRwP"
      },
      "execution_count": null,
      "outputs": []
    },
    {
      "cell_type": "code",
      "source": [
        "# Chart - 4 visualization code\n",
        "sns.countplot(data = df, x = 'required_car_parking_spaces' )\n",
        "plt.xlabel('Requried car parking spaces')\n",
        "plt.ylabel('count')\n",
        "plt.title('Distribution of Required Car Parking Spaces')\n",
        "plt.show()"
      ],
      "metadata": {
        "id": "irlUoxc8YrdO"
      },
      "execution_count": null,
      "outputs": []
    },
    {
      "cell_type": "markdown",
      "source": [
        "##### 1. Why did you pick the specific chart?"
      ],
      "metadata": {
        "id": "iky9q4vBYrdO"
      }
    },
    {
      "cell_type": "markdown",
      "source": [
        "#### This plot will help in understanding the distribution of bookings based on the number of required car parking spaces. It will show how many bookings require different numbers of parking spaces, and whether most bookings do not require any parking space or if there is a demand for multiple parking spaces."
      ],
      "metadata": {
        "id": "aJRCwT6DYrdO"
      }
    },
    {
      "cell_type": "markdown",
      "source": [
        "##### 2. What is/are the insight(s) found from the chart?"
      ],
      "metadata": {
        "id": "F6T5p64dYrdO"
      }
    },
    {
      "cell_type": "markdown",
      "source": [
        "#### his insight can be useful for the hotel management to plan and allocate parking spaces accordingly. If there is a high demand for parking spaces, the hotel may consider expanding their parking facilities to accommodate more guests, which can lead to a positive business impact by enhancing guest satisfaction and attracting more guests with vehicles"
      ],
      "metadata": {
        "id": "Xx8WAJvtYrdO"
      }
    },
    {
      "cell_type": "markdown",
      "source": [
        "##### 3. Will the gained insights help creating a positive business impact?\n",
        "Are there any insights that lead to negative growth? Justify with specific reason."
      ],
      "metadata": {
        "id": "y-Ehk30pYrdP"
      }
    },
    {
      "cell_type": "markdown",
      "source": [
        "#### if there is a low demand for parking spaces, the hotel can explore other ways to utilize the space effectively and optimize resources for better cost management."
      ],
      "metadata": {
        "id": "jLNxxz7MYrdP"
      }
    },
    {
      "cell_type": "markdown",
      "source": [
        "#### Chart - 5"
      ],
      "metadata": {
        "id": "bamQiAODYuh1"
      }
    },
    {
      "cell_type": "code",
      "source": [
        "agent_count = df['agent'].value_counts().reset_index()\n",
        "agent_count.columns = ['agent' , 'count']\n"
      ],
      "metadata": {
        "id": "ZxLMAin2jBuW"
      },
      "execution_count": null,
      "outputs": []
    },
    {
      "cell_type": "code",
      "source": [
        "# Chart - 5 visualization code\n",
        "plt.figure(figsize=(10, 6))\n",
        "sns.barplot(data = agent_count , x = 'agent',y = 'count', palette = 'viridis')\n",
        "plt.xlabel('Agent')\n",
        "plt.ylabel('Count')\n",
        "plt.title('Number of Customers Booked Hotel through Each Agent')\n",
        "plt.xticks(rotation=90)\n",
        "plt.show()"
      ],
      "metadata": {
        "id": "TIJwrbroYuh3"
      },
      "execution_count": null,
      "outputs": []
    },
    {
      "cell_type": "markdown",
      "source": [
        "##### 1. Why did you pick the specific chart?"
      ],
      "metadata": {
        "id": "QHF8YVU7Yuh3"
      }
    },
    {
      "cell_type": "markdown",
      "source": [
        "#### This bar plot provides a clear view of the number of customers who booked the hotel through each agent, allowing us to identify the most popular and least popular agents based on the booking count."
      ],
      "metadata": {
        "id": "dcxuIMRPYuh3"
      }
    },
    {
      "cell_type": "markdown",
      "source": [
        "##### 2. What is/are the insight(s) found from the chart?"
      ],
      "metadata": {
        "id": "GwzvFGzlYuh3"
      }
    },
    {
      "cell_type": "markdown",
      "source": [
        "####Agent Booking Distribution\n",
        "####Most Preferred Agents\n",
        "####Least Preferred Agents\n",
        "####Agent Performance Evaluation"
      ],
      "metadata": {
        "id": "uyqkiB8YYuh3"
      }
    },
    {
      "cell_type": "markdown",
      "source": [
        "##### 3. Will the gained insights help creating a positive business impact?\n",
        "Are there any insights that lead to negative growth? Justify with specific reason."
      ],
      "metadata": {
        "id": "qYpmQ266Yuh3"
      }
    },
    {
      "cell_type": "markdown",
      "source": [
        "#### Understanding the distribution of bookings among different agents can help the hotel management strategize their marketing efforts and improve collaboration with top-performing agents. This can lead to a positive business impact by increasing the number of bookings and overall revenue for the hotel."
      ],
      "metadata": {
        "id": "_WtzZ_hCYuh4"
      }
    },
    {
      "cell_type": "markdown",
      "source": [
        "#### Chart - 6"
      ],
      "metadata": {
        "id": "OH-pJp9IphqM"
      }
    },
    {
      "cell_type": "code",
      "source": [
        "# Chart - 6 visualization code\n",
        "hotel_by_country = df.groupby(['country', 'hotel']).size().unstack()\n",
        "hotel_by_country.plot(kind = 'bar', stacked = True,figsize=(12, 6))\n",
        "plt.xlabel('Country')\n",
        "plt.ylabel('Count')\n",
        "plt.title('Distribution of Hotel Types within Each Country')\n",
        "plt.xticks(rotation=90)\n",
        "\n",
        "plt.legend(title='Hotel Type', loc='upper right', labels=['Resort Hotel', 'City Hotel'])\n",
        "plt.tight_layout()\n",
        "plt.show()"
      ],
      "metadata": {
        "id": "kuRf4wtuphqN"
      },
      "execution_count": null,
      "outputs": []
    },
    {
      "cell_type": "markdown",
      "source": [
        "#### In the stacked bar plot, each country will be represented on the x-axis, and the bars will be stacked to show the distribution of hotel types (Resort Hotel and City Hotel) within each country. The different segments of the stacked bars will represent the count of bookings for each hotel type within the respective country."
      ],
      "metadata": {
        "id": "-SWsSlvBoqqa"
      }
    },
    {
      "cell_type": "code",
      "source": [
        "heatmap_data = df.pivot_table(index='country', columns='hotel', values='is_canceled', aggfunc='count')\n",
        "plt.figure(figsize=(10, 8))\n",
        "sns.heatmap(heatmap_data, cmap='viridis', annot=True, fmt='g', cbar_kws={'label': 'Number of Bookings'})\n",
        "\n",
        "plt.xlabel('Hotel Type')\n",
        "plt.ylabel('Country')\n",
        "plt.title('Count of Hotel Bookings by Country and Hotel Type')\n",
        "plt.show()"
      ],
      "metadata": {
        "id": "wiUmci7dnyWI"
      },
      "execution_count": null,
      "outputs": []
    },
    {
      "cell_type": "markdown",
      "source": [
        "##### 1. Why did you pick the specific chart?"
      ],
      "metadata": {
        "id": "bbFf2-_FphqN"
      }
    },
    {
      "cell_type": "markdown",
      "source": [
        "#### In the heatmap, the countries will be represented on the y-axis, and the hotel types (Resort Hotel and City Hotel) will be represented on the x-axis. Each cell in the heatmap will show the count of hotel bookings for the corresponding country and hotel type. The color intensity in the cells will represent the count, with darker colors indicating higher booking counts."
      ],
      "metadata": {
        "id": "loh7H2nzphqN"
      }
    },
    {
      "cell_type": "markdown",
      "source": [
        "##### 2. What is/are the insight(s) found from the chart?"
      ],
      "metadata": {
        "id": "_ouA3fa0phqN"
      }
    },
    {
      "cell_type": "markdown",
      "source": [
        "#### Distribution of Hotel Types within Each Country: The stacked bar plot will provide insights into the distribution of hotel types (Resort Hotel and City Hotel) within each country. It will show which hotel type is more dominant in each country.\n",
        "\n",
        "#### Count of Hotel Bookings by Country and Hotel Type: The heatmap will give a visual representation of the count of hotel bookings for each country and hotel type. It will help in identifying countries with higher booking counts for each hotel category."
      ],
      "metadata": {
        "id": "VECbqPI7phqN"
      }
    },
    {
      "cell_type": "markdown",
      "source": [
        "##### 3. Will the gained insights help creating a positive business impact?\n",
        "Are there any insights that lead to negative growth? Justify with specific reason."
      ],
      "metadata": {
        "id": "Seke61FWphqN"
      }
    },
    {
      "cell_type": "markdown",
      "source": [
        "# Understanding the relationship between country and hotel bookings through different visualizations can have several business impacts\n",
        "\n",
        "####  The insights can be used to tailor marketing strategies for each hotel type in different countries. This can help in targeted promotions and advertising campaigns\n",
        "\n",
        "####Demand Analysis: The heatmap can help identify countries with high booking demand for each hotel type. This information can be used to allocate resources and optimize capacity planning accordingly.\n",
        "\n",
        "####Overall, these visualizations can provide valuable insights into the booking preferences of guests from different countries and help the hotel management make data-driven decisions to enhance customer satisfaction and drive positive business outcomes."
      ],
      "metadata": {
        "id": "DW4_bGpfphqN"
      }
    },
    {
      "cell_type": "markdown",
      "source": [
        "#### Chart - 7"
      ],
      "metadata": {
        "id": "PIIx-8_IphqN"
      }
    },
    {
      "cell_type": "code",
      "source": [
        "df['adults'].value_counts()"
      ],
      "metadata": {
        "id": "imVeVTM1qbTm"
      },
      "execution_count": null,
      "outputs": []
    },
    {
      "cell_type": "code",
      "source": [
        "# Chart - 7 visualization code\n",
        "average_adult_by_hotel = df.groupby('hotel')['adults'].mean().reset_index()\n",
        "sns.barplot(data=average_adult_by_hotel, x='hotel', y='adults', palette='pastel')\n",
        "\n",
        "plt.xlabel('Hotel Type')\n",
        "plt.ylabel('Average Number of Adults')\n",
        "plt.title('Relationship between Number of Adults and Hotel Type')\n",
        "plt.show()\n"
      ],
      "metadata": {
        "id": "lqAIGUfyphqO"
      },
      "execution_count": null,
      "outputs": []
    },
    {
      "cell_type": "markdown",
      "source": [
        "##### 1. Why did you pick the specific chart?"
      ],
      "metadata": {
        "id": "t27r6nlMphqO"
      }
    },
    {
      "cell_type": "markdown",
      "source": [
        "#### In this bar plot the x-axis reprsent the two hotel types (Resort Hotel And City Hotel) , While the y-axis represent the average number of adults for the corresponding hotel Type"
      ],
      "metadata": {
        "id": "iv6ro40sphqO"
      }
    },
    {
      "cell_type": "markdown",
      "source": [
        "##### 2. What is/are the insight(s) found from the chart?"
      ],
      "metadata": {
        "id": "r2jJGEOYphqO"
      }
    },
    {
      "cell_type": "markdown",
      "source": [
        "#### this bar plot will provide insight into the average number of adult for each hotel type . ut can help identifi if there is any difference  in average number of adults between Resort Hotel  and City Hotel"
      ],
      "metadata": {
        "id": "Po6ZPi4hphqO"
      }
    },
    {
      "cell_type": "markdown",
      "source": [
        "##### 3. Will the gained insights help creating a positive business impact?\n",
        "Are there any insights that lead to negative growth? Justify with specific reason."
      ],
      "metadata": {
        "id": "b0JNsNcRphqO"
      }
    },
    {
      "cell_type": "markdown",
      "source": [
        "# Understanding the relationship between the number of adults and the type of hotel can have several\n",
        "\n",
        "#### **Room Capacity Planning**\n",
        "####**Marketing and Advertising** : Knowing the average number of adults for each hotel type can help in targeting marketing campaigns and creating promotional offers that cater to the preferences of guests traveling with different group sizes.\n",
        "#### **Pricing Strategies**\n",
        "####**Customer Experience**"
      ],
      "metadata": {
        "id": "xvSq8iUTphqO"
      }
    },
    {
      "cell_type": "markdown",
      "source": [
        "#### Chart - 8"
      ],
      "metadata": {
        "id": "BZR9WyysphqO"
      }
    },
    {
      "cell_type": "code",
      "source": [
        "df['meal'].value_counts()"
      ],
      "metadata": {
        "id": "mokY6jiNtjWO"
      },
      "execution_count": null,
      "outputs": []
    },
    {
      "cell_type": "code",
      "source": [
        "# Chart - 8 visualization code\n",
        "meal_by_country = df.pivot_table(index = 'country', columns = 'meal', values = 'is_canceled',aggfunc = 'count')\n",
        "plt.figure(figsize=(12, 6))\n",
        "sns.heatmap(meal_by_country, cmap='viridis', annot=True, fmt='g', cbar_kws={'label': 'Number of Bookings'})\n",
        "plt.xlabel('Meal Type')\n",
        "plt.ylabel('Country')\n",
        "plt.title('Distribution of Meal Types within Each Country')\n",
        "plt.tight_layout()\n",
        "plt.show()"
      ],
      "metadata": {
        "id": "TdPTWpAVphqO"
      },
      "execution_count": null,
      "outputs": []
    },
    {
      "cell_type": "markdown",
      "source": [
        "##### 1. Why did you pick the specific chart?"
      ],
      "metadata": {
        "id": "jj7wYXLtphqO"
      }
    },
    {
      "cell_type": "markdown",
      "source": [
        "#### In this stacked bar plot, the countries will be represented on the y-axis, while the different meal types (e.g., BB, HB, FB) will be represented on the x-axis. Each cell in the heatmap will show the count of bookings for the corresponding country and meal type. The color intensity in the cells will represent the count, with darker colors indicating higher booking counts"
      ],
      "metadata": {
        "id": "Ob8u6rCTphqO"
      }
    },
    {
      "cell_type": "markdown",
      "source": [
        "##### 2. What is/are the insight(s) found from the chart?"
      ],
      "metadata": {
        "id": "eZrbJ2SmphqO"
      }
    },
    {
      "cell_type": "markdown",
      "source": [
        "#### The stacked bar plot will provide insights into the distribution of meal types for each country. It will show which meal type is more dominant in each country and any variations in preferences for meal types across different countries"
      ],
      "metadata": {
        "id": "mZtgC_hjphqO"
      }
    },
    {
      "cell_type": "markdown",
      "source": [
        "##### 3. Will the gained insights help creating a positive business impact?\n",
        "Are there any insights that lead to negative growth? Justify with specific reason."
      ],
      "metadata": {
        "id": "rFu4xreNphqO"
      }
    },
    {
      "cell_type": "markdown",
      "source": [
        "# Understanding the relationship between the type of meal and the country of origin of the guest can have several business impacts\n",
        "\n",
        "#### **Catering Services**:The insights gained from this plot can help hotels plan their catering services based on the preferred meal types of guests from different countries.\n",
        "\n",
        "#### **Menu Planning**: The data can influence menu planning, offering a variety of meal options that cater to the preferences of guests from diverse backgrounds.\n",
        "\n",
        "\n",
        "#### **Special Offers**: Understanding the preferred meal types for each country can help hotels create special offers and packages that include meals tailored to the preferences of specific guest segments."
      ],
      "metadata": {
        "id": "ey_0qi68phqO"
      }
    },
    {
      "cell_type": "markdown",
      "source": [
        "#### Chart - 9"
      ],
      "metadata": {
        "id": "YJ55k-q6phqO"
      }
    },
    {
      "cell_type": "code",
      "source": [
        "# Chart - 9 visualization code\n",
        "df['market_segment'].value_counts()"
      ],
      "metadata": {
        "id": "B2aS4O1ophqO"
      },
      "execution_count": null,
      "outputs": []
    },
    {
      "cell_type": "code",
      "source": [
        "sns.countplot(data = df , x = 'market_segment',palette='viridis')\n",
        "plt.xlabel('Market Segment')\n",
        "plt.ylabel('Count')\n",
        "plt.title('Distribution of Bookings by Market Segment')\n",
        "plt.xticks(rotation=90)\n",
        "plt.tight_layout()\n",
        "plt.show()"
      ],
      "metadata": {
        "id": "7yAN7f6Zvqsx"
      },
      "execution_count": null,
      "outputs": []
    },
    {
      "cell_type": "markdown",
      "source": [
        "##### 1. Why did you pick the specific chart?"
      ],
      "metadata": {
        "id": "gCFgpxoyphqP"
      }
    },
    {
      "cell_type": "markdown",
      "source": [
        "#### In the countplot, each bar is representing a market segment, and the height of the bar are indicateing  the number of bookings associated with this market segment."
      ],
      "metadata": {
        "id": "TVxDimi2phqP"
      }
    },
    {
      "cell_type": "markdown",
      "source": [
        "##### 2. What is/are the insight(s) found from the chart?"
      ],
      "metadata": {
        "id": "OVtJsKN_phqQ"
      }
    },
    {
      "cell_type": "markdown",
      "source": [
        "#### The countplot will provide insights into the distribution of bookings across different market segments. It will help identify which market segments have higher booking counts and are more popular among guests."
      ],
      "metadata": {
        "id": "ngGi97qjphqQ"
      }
    },
    {
      "cell_type": "markdown",
      "source": [
        "##### 3. Will the gained insights help creating a positive business impact?\n",
        "Are there any insights that lead to negative growth? Justify with specific reason."
      ],
      "metadata": {
        "id": "lssrdh5qphqQ"
      }
    },
    {
      "cell_type": "markdown",
      "source": [
        "# Understanding the distribution of bookings across market segments can have several business impacts:\n",
        "\n",
        "### **Targeted Marketing**:  Hotels can use this information to tailor their marketing strategies and promotional campaigns to target specific market segments more effectively.\n",
        "\n",
        "### **Revenue Optimization**: By identifying market segments with higher booking counts, hotels can optimize their revenue management strategies to maximize profits."
      ],
      "metadata": {
        "id": "tBpY5ekJphqQ"
      }
    },
    {
      "cell_type": "markdown",
      "source": [
        "#### Chart - 10"
      ],
      "metadata": {
        "id": "U2RJ9gkRphqQ"
      }
    },
    {
      "cell_type": "code",
      "source": [
        "# Chart - 10 visualization code\n",
        "plt.figure(figsize=(12, 6))\n",
        "sns.countplot(data=df, x='market_segment', hue='reserved_room_type', palette='viridis')\n",
        "plt.xlabel('Market Segment')\n",
        "plt.ylabel('Count')\n",
        "plt.title('Distribution of Reserved Room Types within Each Market Segment')\n",
        "plt.xticks(rotation=90)\n",
        "plt.legend(title='Reserved Room Type', loc='upper right')\n",
        "plt.tight_layout()\n",
        "plt.show()"
      ],
      "metadata": {
        "id": "GM7a4YP4phqQ"
      },
      "execution_count": null,
      "outputs": []
    },
    {
      "cell_type": "markdown",
      "source": [
        "##### 1. Why did you pick the specific chart?"
      ],
      "metadata": {
        "id": "1M8mcRywphqQ"
      }
    },
    {
      "cell_type": "markdown",
      "source": [
        "#### In the grouped bar plot, each bar will represent a market segment, and the different colors within each bar will indicate the count of each reserved room type associated with that market segment."
      ],
      "metadata": {
        "id": "8agQvks0phqQ"
      }
    },
    {
      "cell_type": "markdown",
      "source": [
        "##### 2. What is/are the insight(s) found from the chart?"
      ],
      "metadata": {
        "id": "tgIPom80phqQ"
      }
    },
    {
      "cell_type": "markdown",
      "source": [
        "#### The grouped bar plot will provide insights into the distribution of reserved room types within each market segment. It will help identify which room types are more popular in different market segments and whether certain room types are preferred by specific customer groups."
      ],
      "metadata": {
        "id": "Qp13pnNzphqQ"
      }
    },
    {
      "cell_type": "markdown",
      "source": [
        "##### 3. Will the gained insights help creating a positive business impact?\n",
        "Are there any insights that lead to negative growth? Justify with specific reason."
      ],
      "metadata": {
        "id": "JMzcOPDDphqR"
      }
    },
    {
      "cell_type": "markdown",
      "source": [
        "# Understanding the relationship between market segments and reserved room types can have several business impacts:\n",
        "\n",
        "###**Customer Segmentation**: Hotels can use this information to segment their customers based on their preferred room types and create targeted offers and promotions for different market segments.\n",
        "\n",
        "### **Pricing Strategies**: The insights from this visualization can assist hotels in setting differentiated pricing strategies based on the room types preferred by various market segments.\n"
      ],
      "metadata": {
        "id": "R4Ka1PC2phqR"
      }
    },
    {
      "cell_type": "markdown",
      "source": [
        "#### Chart - 11"
      ],
      "metadata": {
        "id": "x-EpHcCOp1ci"
      }
    },
    {
      "cell_type": "code",
      "source": [
        "# Chart - 11 visualization code\n",
        "sns.boxplot(data = df , x = 'market_segment', y = 'days_in_waiting_list', palette = 'viridis')\n",
        "plt.xlabel('Market Segment')\n",
        "plt.ylabel('Days in Waiting List')\n",
        "plt.title('Box Plot: Days in Waiting List vs. Market Segment')\n",
        "plt.xticks(rotation=90)\n",
        "plt.tight_layout()\n",
        "plt.show()"
      ],
      "metadata": {
        "id": "mAQTIvtqp1cj"
      },
      "execution_count": null,
      "outputs": []
    },
    {
      "cell_type": "markdown",
      "source": [
        "##### 1. Why did you pick the specific chart?"
      ],
      "metadata": {
        "id": "X_VqEhTip1ck"
      }
    },
    {
      "cell_type": "markdown",
      "source": [
        "#### In the box plot, each box will represent a market segment, and the y-axis will represent the distribution of \"days_in_waiting_list\" for each market segment."
      ],
      "metadata": {
        "id": "-vsMzt_np1ck"
      }
    },
    {
      "cell_type": "markdown",
      "source": [
        "##### 2. What is/are the insight(s) found from the chart?"
      ],
      "metadata": {
        "id": "8zGJKyg5p1ck"
      }
    },
    {
      "cell_type": "markdown",
      "source": [
        "####  The box plot will provide insights into how the waiting list duration varies across different market segments. It will help identify any significant differences in the waiting list durations for guests from various market segments.\n"
      ],
      "metadata": {
        "id": "ZYdMsrqVp1ck"
      }
    },
    {
      "cell_type": "markdown",
      "source": [
        "##### 3. Will the gained insights help creating a positive business impact?\n",
        "Are there any insights that lead to negative growth? Justify with specific reason."
      ],
      "metadata": {
        "id": "PVzmfK_Ep1ck"
      }
    },
    {
      "cell_type": "markdown",
      "source": [
        "# Understanding the relationship between market segments and the duration of days spent in the waiting list can have several business impacts:\n",
        "\n",
        "### **Customer Service**: The insights gained from this plot can help hotels prioritize guests on the waiting list based on their market segment, ensuring higher levels of customer service and satisfaction.\n",
        "\n",
        "\n",
        "### **Capacity Planning**: The waiting list data can be used to optimize capacity planning and make decisions about inventory management to accommodate guests on the waiting list."
      ],
      "metadata": {
        "id": "druuKYZpp1ck"
      }
    },
    {
      "cell_type": "markdown",
      "source": [
        "#### Chart - 12"
      ],
      "metadata": {
        "id": "n3dbpmDWp1ck"
      }
    },
    {
      "cell_type": "code",
      "source": [
        "# Chart - 12 visualization code\n",
        "sns.countplot(data = df , x = 'is_repeated_guest' , palette = 'viridis')\n",
        "plt.xlabel('IS Repeated Guest')\n",
        "plt.ylabel('count')\n",
        "plt.title('Distribution of Repeated and Non-Repeated Guests')\n",
        "plt.xticks(ticks = [0,1], label = ['Not Repeated' , 'Repeated'])\n",
        "plt.show()"
      ],
      "metadata": {
        "id": "bwevp1tKp1ck"
      },
      "execution_count": null,
      "outputs": []
    },
    {
      "cell_type": "markdown",
      "source": [
        "##### 1. Why did you pick the specific chart?"
      ],
      "metadata": {
        "id": "ylSl6qgtp1ck"
      }
    },
    {
      "cell_type": "markdown",
      "source": [
        "#### this visualization can assist hotels in understanding their customer base better and making informed decisions to enhance customer retention and drive positive business outcomes.\n",
        "\n"
      ],
      "metadata": {
        "id": "m2xqNkiQp1ck"
      }
    },
    {
      "cell_type": "markdown",
      "source": [
        "##### 2. What is/are the insight(s) found from the chart?"
      ],
      "metadata": {
        "id": "ZWILFDl5p1ck"
      }
    },
    {
      "cell_type": "markdown",
      "source": [
        "#### The count plot will provide insights into the distribution of guests who are repeated visitors to the hotel versus those who are not. It will help identify the proportion of repeat guests among all the bookings."
      ],
      "metadata": {
        "id": "x-lUsV2mp1ck"
      }
    },
    {
      "cell_type": "markdown",
      "source": [
        "##### 3. Will the gained insights help creating a positive business impact?\n",
        "Are there any insights that lead to negative growth? Justify with specific reason."
      ],
      "metadata": {
        "id": "M7G43BXep1ck"
      }
    },
    {
      "cell_type": "markdown",
      "source": [
        "# Understanding the proportion of repeated guests can have several business impacts:\n",
        "\n",
        "### **Customer Service**: Knowing the percentage of repeat guests can help hotels focus on providing excellent customer service and personalized experiences to retain their loyal customers.\n",
        "\n",
        "\n",
        "### **Marketing Strategies**: Hotels can tailor their marketing strategies to target both repeat and non-repeat guests differently, focusing on retention and acquisition strategies."
      ],
      "metadata": {
        "id": "5wwDJXsLp1cl"
      }
    },
    {
      "cell_type": "markdown",
      "source": [
        "#### Chart - 13"
      ],
      "metadata": {
        "id": "Ag9LCva-p1cl"
      }
    },
    {
      "cell_type": "code",
      "source": [
        "# Chart - 13 visualization code\n",
        "sns.boxplot(data = df , x = 'hotel', y = 'lead_time', palette = 'viridis')\n",
        "plt.xlabel('Hotel Type')\n",
        "plt.ylabel('Lead Time (Days)')\n",
        "plt.title('Relationship between Lead Time and Hotel Type')\n",
        "plt.show()"
      ],
      "metadata": {
        "id": "EUfxeq9-p1cl"
      },
      "execution_count": null,
      "outputs": []
    },
    {
      "cell_type": "markdown",
      "source": [
        "##### 1. Why did you pick the specific chart?"
      ],
      "metadata": {
        "id": "E6MkPsBcp1cl"
      }
    },
    {
      "cell_type": "markdown",
      "source": [
        "Answer Here."
      ],
      "metadata": {
        "id": "V22bRsFWp1cl"
      }
    },
    {
      "cell_type": "markdown",
      "source": [
        "##### 2. What is/are the insight(s) found from the chart?"
      ],
      "metadata": {
        "id": "2cELzS2fp1cl"
      }
    },
    {
      "cell_type": "markdown",
      "source": [
        "### The box plot will provide insights into the distribution of lead times for each hotel type. It will show the median, quartiles, and outliers for both Resort Hotel and City Hotel."
      ],
      "metadata": {
        "id": "ozQPc2_Ip1cl"
      }
    },
    {
      "cell_type": "markdown",
      "source": [
        "##### 3. Will the gained insights help creating a positive business impact?\n",
        "Are there any insights that lead to negative growth? Justify with specific reason."
      ],
      "metadata": {
        "id": "3MPXvC8up1cl"
      }
    },
    {
      "cell_type": "markdown",
      "source": [
        "### **Revenue Management**: This visualization can help hotels identify trends in lead times and plan their pricing and revenue management strategies accordingly. For instance, if guests tend to book City Hotel stays with shorter lead times, the hotel can consider offering last-minute deals to attract more bookings."
      ],
      "metadata": {
        "id": "GL8l1tdLp1cl"
      }
    },
    {
      "cell_type": "markdown",
      "source": [
        "#### Chart - 14 - Correlation Heatmap"
      ],
      "metadata": {
        "id": "NC_X3p0fY2L0"
      }
    },
    {
      "cell_type": "code",
      "source": [
        "# Correlation Heatmap visualization code\n",
        "plt.figure(figsize = (16,12))\n",
        "correlation_matrix = df.corr()\n",
        "sns.heatmap(correlation_matrix , annot = True, cmap = 'coolwarm', fmt = '2f')\n",
        "plt.title('Correlation HeatMap')\n",
        "plt.show()"
      ],
      "metadata": {
        "id": "xyC9zolEZNRQ"
      },
      "execution_count": null,
      "outputs": []
    },
    {
      "cell_type": "markdown",
      "source": [
        "##### 1. Why did you pick the specific chart?"
      ],
      "metadata": {
        "id": "UV0SzAkaZNRQ"
      }
    },
    {
      "cell_type": "markdown",
      "source": [
        "Answer Here."
      ],
      "metadata": {
        "id": "DVPuT8LYZNRQ"
      }
    },
    {
      "cell_type": "markdown",
      "source": [
        "##### 2. What is/are the insight(s) found from the chart?"
      ],
      "metadata": {
        "id": "YPEH6qLeZNRQ"
      }
    },
    {
      "cell_type": "markdown",
      "source": [
        "#### The correlation heatmap will displaying  the correlations between different numerical variables in the dataset. The values in the heatmap range from -1 to 1, where -1 indicates a strong negative correlation, 1 indicates a strong positive correlation, and 0 indicates no correlation."
      ],
      "metadata": {
        "id": "bfSqtnDqZNRR"
      }
    },
    {
      "cell_type": "markdown",
      "source": [
        "#### Chart - 15 - Pair Plot"
      ],
      "metadata": {
        "id": "q29F0dvdveiT"
      }
    },
    {
      "cell_type": "code",
      "source": [
        "# Pair Plot visualization code\n",
        "numerical_columns = df.select_dtypes(include = 'number')\n",
        "\n",
        "sns.pairplot(numerical_columns)\n",
        "plt.title('Pair Plot of Numerical Variables')\n",
        "plt.show()"
      ],
      "metadata": {
        "id": "o58-TEIhveiU"
      },
      "execution_count": null,
      "outputs": []
    },
    {
      "cell_type": "markdown",
      "source": [
        "##### 1. Why did you pick the specific chart?"
      ],
      "metadata": {
        "id": "EXh0U9oCveiU"
      }
    },
    {
      "cell_type": "markdown",
      "source": [
        "## **Identifying Patterns**\n",
        "## **Outlier Detection**"
      ],
      "metadata": {
        "id": "eMmPjTByveiU"
      }
    },
    {
      "cell_type": "markdown",
      "source": [
        "##### 2. What is/are the insight(s) found from the chart?"
      ],
      "metadata": {
        "id": "22aHeOlLveiV"
      }
    },
    {
      "cell_type": "markdown",
      "source": [
        "#### The pair plot will display scatter plots for each pair of numerical variables in the dataset. The diagonal of the pair plot will show the distribution of each individual numerical variable."
      ],
      "metadata": {
        "id": "uPQ8RGwHveiV"
      }
    },
    {
      "cell_type": "markdown",
      "source": [
        "## **5. Solution to Business Objective**"
      ],
      "metadata": {
        "id": "JcMwzZxoAimU"
      }
    },
    {
      "cell_type": "markdown",
      "source": [
        "#### What do you suggest the client to achieve Business Objective ?\n",
        "Explain Briefly."
      ],
      "metadata": {
        "id": "8G2x9gOozGDZ"
      }
    },
    {
      "cell_type": "markdown",
      "source": [
        "##Based on the analysis of the \"Hotel Booking Analysis\" project, here are  some suggested solutions to achieve the business objectives:\n",
        "\n",
        "####**Optimize Booking Policies**: Analyze the booking patterns and trends to identify the best time of year to book a hotel room and the optimal length of stay to get the best daily rate. This information can be used to optimize booking policies and offer targeted promotions during specific periods.\n",
        "\n",
        "###**Enhance Customer Experience:** Use insights gained from customer preferences and behavior to tailor hotel services and amenities. For example, if guests tend to stay more on weekends, hotels can introduce special weekend packages or events to enhance the guest experience.\n",
        "\n",
        "###**Predict Special Requests:** Utilize machine learning algorithms to predict whether a hotel is likely to receive a disproportionately high number of special requests. This can help hotels prepare in advance and allocate resources accordingly.\n",
        "\n",
        "###**Targeted Marketing Strategies:** Leverage the insights on market segments, preferred room types, and meal preferences to design targeted marketing campaigns for different customer groups. This will help attract more bookings and improve customer satisfaction.\n",
        "\n",
        "\n",
        "###**Resource Optimization:** Optimize the allocation of parking spaces based on the demand for parking facilities. If there is high demand for parking, consider expanding parking facilities to accommodate more guests, and if there is low demand, explore alternative uses for the space to optimize resources.\n",
        "\n",
        "###**Collaboration with Preferred Agents:** Identify the most preferred and least preferred booking agents based on the booking distribution. Strengthen collaborations with top-performing agents to increase bookings and explore ways to improve relationships with less preferred agents.\n",
        "\n",
        "###**Country-Specific Strategies:** Tailor marketing and pricing strategies based on country-specific booking patterns. This can help attract more bookings from specific countries and improve international guest satisfaction.\n",
        "\n",
        "###**Capacity Planning:** Use insights on the number of adults and room types preferred by guests to optimize capacity planning. Ensure the availability of room types that are in high demand and plan staffing accordingly.\n",
        "\n",
        "###**Enhance Revenue Management**: Utilize insights on lead times and booking trends to develop effective revenue management strategies. Offer last-minute deals or promotions during periods of low bookings to maximize revenue.\n",
        "\n",
        "####**Repeat Guest Engagement:** Implement strategies to enhance repeat guest engagement and loyalty. Offer personalized packages or loyalty rewards to encourage repeat bookings and increase customer retention.\n",
        "\n",
        "####By implementing these solutions, the \"Hotel Booking Analysis\" project can lead to improved guest satisfaction, increased occupancy rates, and better business performance for both city hotels and resort hotels.\n"
      ],
      "metadata": {
        "id": "pASKb0qOza21"
      }
    },
    {
      "cell_type": "markdown",
      "source": [
        "# **Conclusion**"
      ],
      "metadata": {
        "id": "gCX9965dhzqZ"
      }
    },
    {
      "cell_type": "markdown",
      "source": [
        "#In conclusion, the \"Hotel Booking Analysis\" project has provided valuable insights into the booking patterns and trends for city hotels and resort hotels. Through thorough exploratory data analysis, we have gained a deeper understanding of the factors that influence hotel bookings and customer preferences.\n",
        "\n",
        "##***Key Findings:***\n",
        "\n",
        "###**Seasonal Booking Trends:** The analysis revealed seasonal patterns in hotel bookings, with certain months experiencing higher booking volumes. Hotels can leverage this information to optimize pricing and promotions during peak and off-peak seasons.\n",
        "\n",
        "###**Lead Time Impact:** The lead time, or the duration between booking and arrival, plays a crucial role in hotel bookings. Guests booking with shorter lead times tend to stay for a shorter duration. Hotels can offer last-minute deals to attract more bookings from this segment.\n",
        "\n",
        "###**Weekend Stays:** Guests staying at city hotels tend to stay more on weekends, while those at resort hotels have longer stays during the week. Hotel management can customize offerings and events based on these preferences.\n",
        "\n",
        "###**Room Type Preferences:** The distribution of room types varies between city hotels and resort hotels. Understanding these preferences can help optimize room capacity planning and resource allocation.\n",
        "\n",
        "###**Country-Specific Booking Behaviors:** Different countries exhibit distinct booking behaviors and preferences. Hotels can tailor marketing strategies to attract more bookings from specific countries and enhance international guest satisfaction.\n",
        "\n",
        "###**Agent Booking Distribution:** Identifying the most preferred and least preferred booking agents can guide marketing efforts and enhance collaborations with top-performing agents.\n",
        "\n",
        "###**Meal Type Choices:** Meal preferences can differ between guests from various countries. Hotels can use this information to offer meal options that align with the preferences of their guests.\n",
        "\n",
        "###**Parking Space Demand:** Understanding the demand for parking spaces can help optimize parking facilities, leading to improved guest satisfaction and resource management.\n",
        "\n",
        "###**Market Segments:** Analyzing market segments and their booking behavior can guide targeted marketing efforts and pricing strategies.\n",
        "\n",
        "####Overall, the insights gained from this analysis can help hotels in the hospitality industry make data-driven decisions to enhance customer satisfaction, increase occupancy rates, and improve business performance. By implementing the suggested solutions, hotels can create positive business impacts and ensure continued success in the competitive market."
      ],
      "metadata": {
        "id": "Fjb1IsQkh3yE"
      }
    },
    {
      "cell_type": "markdown",
      "source": [
        "### ***Hurrah! You have successfully completed your EDA Capstone Project !!!***"
      ],
      "metadata": {
        "id": "gIfDvo9L0UH2"
      }
    }
  ]
}